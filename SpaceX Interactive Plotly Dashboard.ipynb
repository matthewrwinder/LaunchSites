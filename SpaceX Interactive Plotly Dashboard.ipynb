{
 "cells": [
  {
   "cell_type": "markdown",
   "metadata": {},
   "source": [
    "# SpaceX Interactive Dashboard with Plotly Dash"
   ]
  },
  {
   "cell_type": "markdown",
   "metadata": {},
   "source": [
    "In this lab, we are building a Plotly Dash application for users to perform interactive visual analytics on SpaceX launch data in real-time.\n",
    "\n",
    "This dashboard application contains input components such as a dropdown list and a range slider to interact with a pie chart and a scatter point chart. You will be guided to build this dashboard application via the following tasks:\n",
    "\n",
    "TASK 1: Add a Launch Site Drop-down Input Component\\\n",
    "TASK 2: Add a callback function to render success-pie-chart based on selected site dropdown\\\n",
    "TASK 3: Add a Range Slider to Select Payload\\\n",
    "TASK 4: Add a callback function to render the success-payload-scatter-chart scatter plot\n",
    "\n",
    "This is a part of the [IBM Data Science Professional Certificate](https://www.coursera.org/professional-certificates/ibm-data-science)"
   ]
  },
  {
   "cell_type": "code",
   "execution_count": null,
   "metadata": {},
   "outputs": [],
   "source": [
    "# Import required libraries\n",
    "import pandas as pd\n",
    "import dash\n",
    "from dash import html\n",
    "from dash import dcc\n",
    "from dash.dependencies import Input, Output\n",
    "import plotly.express as px\n",
    "import wget"
   ]
  },
  {
   "cell_type": "code",
   "execution_count": null,
   "metadata": {},
   "outputs": [],
   "source": [
    "# Retrieve ead the launch data into a pandas dataframe\n",
    "wget.download(\"https://cf-courses-data.s3.us.cloud-object-storage.appdomain.cloud/IBM-DS0321EN-SkillsNetwork/datasets/spacex_launch_dash.csv\")\n",
    "spacex_df = pd.read_csv(\"spacex_launch_dash.csv\")\n",
    "max_payload = spacex_df['Payload Mass (kg)'].max()\n",
    "min_payload = spacex_df['Payload Mass (kg)'].min()"
   ]
  },
  {
   "cell_type": "code",
   "execution_count": null,
   "metadata": {},
   "outputs": [],
   "source": [
    "# Create a dash application\n",
    "app = dash.Dash(__name__)"
   ]
  },
  {
   "cell_type": "code",
   "execution_count": null,
   "metadata": {},
   "outputs": [],
   "source": [
    "# Create an app layout\n",
    "app.layout = html.Div(children=[html.H1('SpaceX Launch Records Dashboard',\n",
    "                                        style={'textAlign': 'center', 'color': '#503D36',\n",
    "                                               'font-size': 40}),\n",
    "                                # TASK 1: Add a dropdown list to enable Launch Site selection\n",
    "                                # The default select value is for ALL sites\n",
    "                                html.Div(dcc.Dropdown(id='site-dropdown', \n",
    "                                    options=[ \n",
    "                                        {'label': 'All Sites', 'value': 'ALL'},\n",
    "                                        {'label': 'CCAFS LC-40', 'value': 'CCAFS LC-40'},\n",
    "                                        {'label': 'VAFB SLC-4E', 'value': 'VAFB SLC-4E'},\n",
    "                                        {'label': 'KSC LC-39A', 'value': 'KSC LC-39A'},\n",
    "                                        {'label': 'CCAFS SLC-40', 'value': 'CCAFS SLC-40'}], \n",
    "                                    value='ALL',\n",
    "                                    placeholder=\"Select a launch site here\",\n",
    "                                    searchable=True\n",
    "                                )),\n",
    "                                html.Br(),\n",
    "\n",
    "                                # TASK 2: Add a pie chart to show the total successful launches count for all sites\n",
    "                                # If a specific launch site was selected, show the Success vs. Failed counts for the site\n",
    "                                html.Div(dcc.Graph(id='success-pie-chart')),\n",
    "                                html.Br(),\n",
    "\n",
    "                                html.P(\"Payload range (Kg):\"),\n",
    "                                # TASK 3: Add a slider to select payload range\n",
    "                                html.Div(dcc.RangeSlider(id='payload-slider',\n",
    "                                min = 0,\n",
    "                                max = 10000,\n",
    "                                step = 1000,\n",
    "                                marks = {0:'0',2500:'2,500 kg',5000:'5,000 kg',7500:'7,500 kg',10000: '10,000 kg'},\n",
    "                                value = [min_payload,max_payload])),\n",
    "\n",
    "                                # TASK 4: Add a scatter chart to show the correlation between payload and launch success\n",
    "                                html.Div(dcc.Graph(id='success-payload-scatter-chart')),\n",
    "                                ])"
   ]
  },
  {
   "cell_type": "code",
   "execution_count": null,
   "metadata": {},
   "outputs": [],
   "source": [
    "# TASK 2:\n",
    "# Add a callback function for `site-dropdown` as input, `success-pie-chart` as output\n",
    "@app.callback(Output(component_id='success-pie-chart', component_property='figure'),\n",
    "              Input(component_id='site-dropdown', component_property='value'))\n",
    "\n",
    "def get_pie_chart(entered_site):\n",
    "    filtered_df = spacex_df\n",
    "    if entered_site == 'ALL':\n",
    "        fig = px.pie(filtered_df, values='class', \n",
    "        names='Launch Site', \n",
    "        title='Total Success Launches By Site')\n",
    "        return fig\n",
    "    else:\n",
    "        filtered_df = spacex_df[spacex_df['Launch Site'] == entered_site]\n",
    "        # return the outcomes piechart for a selected siteLaunch Site\n",
    "        fig = px.pie(filtered_df, \n",
    "        names='class', \n",
    "        title='Total Success Launches for Site ' + entered_site)\n",
    "        return fig"
   ]
  },
  {
   "cell_type": "code",
   "execution_count": null,
   "metadata": {},
   "outputs": [],
   "source": [
    "# TASK 4:\n",
    "# Add a callback function for `site-dropdown` and `payload-slider` as inputs, `success-payload-scatter-chart` as output\n",
    "@app.callback(Output(component_id='success-payload-scatter-chart', component_property='figure'),\n",
    "              [Input(component_id='site-dropdown', component_property='value'), \n",
    "              Input(component_id='payload-slider', component_property='value')])\n",
    "\n",
    "def get_scatter_plot(entered_site, payloads):\n",
    "    if entered_site == 'ALL':\n",
    "        filter_low_df = spacex_df[spacex_df['Payload Mass (kg)'] >= payloads[0]]\n",
    "        filtered_df = filter_low_df[filter_low_df['Payload Mass (kg)'] <= payloads[1]]\n",
    "        fig2 = px.scatter(filtered_df,\n",
    "        x='Payload Mass (kg)',\n",
    "        y='class',\n",
    "        color='Booster Version Category',\n",
    "        symbol='Booster Version Category',\n",
    "        title='Correlation between payload and success for all sites between ' + str(payloads[0]) + 'kg and ' + str(payloads[1]) + 'kg')\n",
    "    else:\n",
    "        site_df = spacex_df[spacex_df['Launch Site'] == entered_site]\n",
    "        filter_low_df = site_df[site_df['Payload Mass (kg)'] >= payloads[0]]\n",
    "        filtered_df = filter_low_df[filter_low_df['Payload Mass (kg)'] <= payloads[1]]\n",
    "        fig2 = px.scatter(filtered_df,\n",
    "        x='Payload Mass (kg)',\n",
    "        y='class',\n",
    "        color='Booster Version Category',\n",
    "        symbol='Booster Version Category',\n",
    "        title='Correlation between payload and success for ' + entered_site + ' between ' + str(payloads[0]) + 'kg and ' + str(payloads[1]) + 'kg')\n",
    "    return fig2"
   ]
  },
  {
   "cell_type": "code",
   "execution_count": null,
   "metadata": {},
   "outputs": [],
   "source": [
    "# Run the app\n",
    "if __name__ == '__main__':\n",
    "    app.run_server()"
   ]
  },
  {
   "cell_type": "markdown",
   "metadata": {},
   "source": [
    "To view the dashboard open a browser window at http://127.0.0.1:8050/"
   ]
  },
  {
   "cell_type": "markdown",
   "metadata": {},
   "source": []
  }
 ],
 "metadata": {
  "interpreter": {
   "hash": "0a74d7633042e1b7b6ed194bc9e6351b1ee13db9887259394a7bad68d142b207"
  },
  "kernelspec": {
   "display_name": "Python 3.10.2 64-bit",
   "language": "python",
   "name": "python3"
  },
  "language_info": {
   "name": "python",
   "version": "3.10.2"
  },
  "orig_nbformat": 4
 },
 "nbformat": 4,
 "nbformat_minor": 2
}
